{
 "cells": [
  {
   "cell_type": "markdown",
   "id": "053c57c0",
   "metadata": {
    "papermill": {
     "duration": 0.012632,
     "end_time": "2024-09-18T15:45:37.669539",
     "exception": false,
     "start_time": "2024-09-18T15:45:37.656907",
     "status": "completed"
    },
    "tags": []
   },
   "source": [
    "# Data Understanding"
   ]
  },
  {
   "cell_type": "code",
   "execution_count": 1,
   "id": "36d33027",
   "metadata": {
    "execution": {
     "iopub.execute_input": "2024-09-18T15:45:37.695066Z",
     "iopub.status.busy": "2024-09-18T15:45:37.694609Z",
     "iopub.status.idle": "2024-09-18T15:45:39.864277Z",
     "shell.execute_reply": "2024-09-18T15:45:39.863194Z"
    },
    "papermill": {
     "duration": 2.185629,
     "end_time": "2024-09-18T15:45:39.867131",
     "exception": false,
     "start_time": "2024-09-18T15:45:37.681502",
     "status": "completed"
    },
    "tags": []
   },
   "outputs": [],
   "source": [
    "import pandas as pd\n",
    "import numpy as np\n",
    "import matplotlib as mpl\n",
    "import matplotlib.pyplot as plt\n",
    "import seaborn as sns\n",
    "from warnings import filterwarnings\n",
    "filterwarnings('ignore')"
   ]
  },
  {
   "cell_type": "code",
   "execution_count": 2,
   "id": "59ac49cc",
   "metadata": {
    "execution": {
     "iopub.execute_input": "2024-09-18T15:45:39.893109Z",
     "iopub.status.busy": "2024-09-18T15:45:39.892537Z",
     "iopub.status.idle": "2024-09-18T15:45:40.168707Z",
     "shell.execute_reply": "2024-09-18T15:45:40.167420Z"
    },
    "papermill": {
     "duration": 0.291995,
     "end_time": "2024-09-18T15:45:40.171393",
     "exception": false,
     "start_time": "2024-09-18T15:45:39.879398",
     "status": "completed"
    },
    "tags": []
   },
   "outputs": [
    {
     "data": {
      "text/html": [
       "<div>\n",
       "<style scoped>\n",
       "    .dataframe tbody tr th:only-of-type {\n",
       "        vertical-align: middle;\n",
       "    }\n",
       "\n",
       "    .dataframe tbody tr th {\n",
       "        vertical-align: top;\n",
       "    }\n",
       "\n",
       "    .dataframe thead th {\n",
       "        text-align: right;\n",
       "    }\n",
       "</style>\n",
       "<table border=\"1\" class=\"dataframe\">\n",
       "  <thead>\n",
       "    <tr style=\"text-align: right;\">\n",
       "      <th></th>\n",
       "      <th>key</th>\n",
       "      <th>fare_amount</th>\n",
       "      <th>pickup_datetime</th>\n",
       "      <th>pickup_longitude</th>\n",
       "      <th>pickup_latitude</th>\n",
       "      <th>dropoff_longitude</th>\n",
       "      <th>dropoff_latitude</th>\n",
       "      <th>passenger_count</th>\n",
       "    </tr>\n",
       "  </thead>\n",
       "  <tbody>\n",
       "    <tr>\n",
       "      <th>0</th>\n",
       "      <td>26:21.0</td>\n",
       "      <td>4.5</td>\n",
       "      <td>2009-06-15 17:26:21 UTC</td>\n",
       "      <td>-73.844311</td>\n",
       "      <td>40.721319</td>\n",
       "      <td>-73.841610</td>\n",
       "      <td>40.712278</td>\n",
       "      <td>1</td>\n",
       "    </tr>\n",
       "    <tr>\n",
       "      <th>1</th>\n",
       "      <td>52:16.0</td>\n",
       "      <td>16.9</td>\n",
       "      <td>2010-01-05 16:52:16 UTC</td>\n",
       "      <td>-74.016048</td>\n",
       "      <td>40.711303</td>\n",
       "      <td>-73.979268</td>\n",
       "      <td>40.782004</td>\n",
       "      <td>1</td>\n",
       "    </tr>\n",
       "    <tr>\n",
       "      <th>2</th>\n",
       "      <td>35:00.0</td>\n",
       "      <td>5.7</td>\n",
       "      <td>2011-08-18 00:35:00 UTC</td>\n",
       "      <td>-73.982738</td>\n",
       "      <td>40.761270</td>\n",
       "      <td>-73.991242</td>\n",
       "      <td>40.750562</td>\n",
       "      <td>2</td>\n",
       "    </tr>\n",
       "    <tr>\n",
       "      <th>3</th>\n",
       "      <td>30:42.0</td>\n",
       "      <td>7.7</td>\n",
       "      <td>2012-04-21 04:30:42 UTC</td>\n",
       "      <td>-73.987130</td>\n",
       "      <td>40.733143</td>\n",
       "      <td>-73.991567</td>\n",
       "      <td>40.758092</td>\n",
       "      <td>1</td>\n",
       "    </tr>\n",
       "    <tr>\n",
       "      <th>4</th>\n",
       "      <td>51:00.0</td>\n",
       "      <td>5.3</td>\n",
       "      <td>2010-03-09 07:51:00 UTC</td>\n",
       "      <td>-73.968095</td>\n",
       "      <td>40.768008</td>\n",
       "      <td>-73.956655</td>\n",
       "      <td>40.783762</td>\n",
       "      <td>1</td>\n",
       "    </tr>\n",
       "  </tbody>\n",
       "</table>\n",
       "</div>"
      ],
      "text/plain": [
       "       key  fare_amount          pickup_datetime  pickup_longitude  \\\n",
       "0  26:21.0          4.5  2009-06-15 17:26:21 UTC        -73.844311   \n",
       "1  52:16.0         16.9  2010-01-05 16:52:16 UTC        -74.016048   \n",
       "2  35:00.0          5.7  2011-08-18 00:35:00 UTC        -73.982738   \n",
       "3  30:42.0          7.7  2012-04-21 04:30:42 UTC        -73.987130   \n",
       "4  51:00.0          5.3  2010-03-09 07:51:00 UTC        -73.968095   \n",
       "\n",
       "   pickup_latitude  dropoff_longitude  dropoff_latitude  passenger_count  \n",
       "0        40.721319         -73.841610         40.712278                1  \n",
       "1        40.711303         -73.979268         40.782004                1  \n",
       "2        40.761270         -73.991242         40.750562                2  \n",
       "3        40.733143         -73.991567         40.758092                1  \n",
       "4        40.768008         -73.956655         40.783762                1  "
      ]
     },
     "execution_count": 2,
     "metadata": {},
     "output_type": "execute_result"
    }
   ],
   "source": [
    "df = pd.read_csv('/kaggle/input/taxi-fsre-dataset/taxi_fare_train.csv')\n",
    "df.head()"
   ]
  },
  {
   "cell_type": "code",
   "execution_count": 3,
   "id": "0d288d5c",
   "metadata": {
    "execution": {
     "iopub.execute_input": "2024-09-18T15:45:40.198399Z",
     "iopub.status.busy": "2024-09-18T15:45:40.197433Z",
     "iopub.status.idle": "2024-09-18T15:45:40.237444Z",
     "shell.execute_reply": "2024-09-18T15:45:40.235990Z"
    },
    "papermill": {
     "duration": 0.056169,
     "end_time": "2024-09-18T15:45:40.239959",
     "exception": false,
     "start_time": "2024-09-18T15:45:40.183790",
     "status": "completed"
    },
    "tags": []
   },
   "outputs": [
    {
     "name": "stdout",
     "output_type": "stream",
     "text": [
      "<class 'pandas.core.frame.DataFrame'>\n",
      "RangeIndex: 61601 entries, 0 to 61600\n",
      "Data columns (total 8 columns):\n",
      " #   Column             Non-Null Count  Dtype  \n",
      "---  ------             --------------  -----  \n",
      " 0   key                61601 non-null  object \n",
      " 1   fare_amount        61601 non-null  float64\n",
      " 2   pickup_datetime    61601 non-null  object \n",
      " 3   pickup_longitude   61601 non-null  float64\n",
      " 4   pickup_latitude    61601 non-null  float64\n",
      " 5   dropoff_longitude  61601 non-null  float64\n",
      " 6   dropoff_latitude   61601 non-null  float64\n",
      " 7   passenger_count    61601 non-null  int64  \n",
      "dtypes: float64(5), int64(1), object(2)\n",
      "memory usage: 3.8+ MB\n"
     ]
    }
   ],
   "source": [
    "df.info()"
   ]
  },
  {
   "cell_type": "code",
   "execution_count": 4,
   "id": "c58aa33d",
   "metadata": {
    "execution": {
     "iopub.execute_input": "2024-09-18T15:45:40.267197Z",
     "iopub.status.busy": "2024-09-18T15:45:40.266213Z",
     "iopub.status.idle": "2024-09-18T15:45:40.314530Z",
     "shell.execute_reply": "2024-09-18T15:45:40.313287Z"
    },
    "papermill": {
     "duration": 0.064547,
     "end_time": "2024-09-18T15:45:40.317149",
     "exception": false,
     "start_time": "2024-09-18T15:45:40.252602",
     "status": "completed"
    },
    "tags": []
   },
   "outputs": [
    {
     "data": {
      "text/html": [
       "<div>\n",
       "<style scoped>\n",
       "    .dataframe tbody tr th:only-of-type {\n",
       "        vertical-align: middle;\n",
       "    }\n",
       "\n",
       "    .dataframe tbody tr th {\n",
       "        vertical-align: top;\n",
       "    }\n",
       "\n",
       "    .dataframe thead th {\n",
       "        text-align: right;\n",
       "    }\n",
       "</style>\n",
       "<table border=\"1\" class=\"dataframe\">\n",
       "  <thead>\n",
       "    <tr style=\"text-align: right;\">\n",
       "      <th></th>\n",
       "      <th>fare_amount</th>\n",
       "      <th>pickup_longitude</th>\n",
       "      <th>pickup_latitude</th>\n",
       "      <th>dropoff_longitude</th>\n",
       "      <th>dropoff_latitude</th>\n",
       "      <th>passenger_count</th>\n",
       "    </tr>\n",
       "  </thead>\n",
       "  <tbody>\n",
       "    <tr>\n",
       "      <th>count</th>\n",
       "      <td>61601.000000</td>\n",
       "      <td>61601.000000</td>\n",
       "      <td>61601.000000</td>\n",
       "      <td>61601.000000</td>\n",
       "      <td>61601.000000</td>\n",
       "      <td>61601.000000</td>\n",
       "    </tr>\n",
       "    <tr>\n",
       "      <th>mean</th>\n",
       "      <td>11.336889</td>\n",
       "      <td>-72.525348</td>\n",
       "      <td>39.932442</td>\n",
       "      <td>-72.516245</td>\n",
       "      <td>39.930425</td>\n",
       "      <td>1.671450</td>\n",
       "    </tr>\n",
       "    <tr>\n",
       "      <th>std</th>\n",
       "      <td>9.689110</td>\n",
       "      <td>10.726166</td>\n",
       "      <td>6.213724</td>\n",
       "      <td>10.377714</td>\n",
       "      <td>6.031005</td>\n",
       "      <td>1.295731</td>\n",
       "    </tr>\n",
       "    <tr>\n",
       "      <th>min</th>\n",
       "      <td>-44.900000</td>\n",
       "      <td>-736.550000</td>\n",
       "      <td>-74.006893</td>\n",
       "      <td>-84.654241</td>\n",
       "      <td>-74.006377</td>\n",
       "      <td>0.000000</td>\n",
       "    </tr>\n",
       "    <tr>\n",
       "      <th>25%</th>\n",
       "      <td>6.000000</td>\n",
       "      <td>-73.992066</td>\n",
       "      <td>40.734985</td>\n",
       "      <td>-73.991205</td>\n",
       "      <td>40.734382</td>\n",
       "      <td>1.000000</td>\n",
       "    </tr>\n",
       "    <tr>\n",
       "      <th>50%</th>\n",
       "      <td>8.500000</td>\n",
       "      <td>-73.981848</td>\n",
       "      <td>40.752682</td>\n",
       "      <td>-73.980096</td>\n",
       "      <td>40.753378</td>\n",
       "      <td>1.000000</td>\n",
       "    </tr>\n",
       "    <tr>\n",
       "      <th>75%</th>\n",
       "      <td>12.500000</td>\n",
       "      <td>-73.967258</td>\n",
       "      <td>40.767297</td>\n",
       "      <td>-73.963563</td>\n",
       "      <td>40.768187</td>\n",
       "      <td>2.000000</td>\n",
       "    </tr>\n",
       "    <tr>\n",
       "      <th>max</th>\n",
       "      <td>200.000000</td>\n",
       "      <td>40.783472</td>\n",
       "      <td>401.083332</td>\n",
       "      <td>40.851027</td>\n",
       "      <td>43.415190</td>\n",
       "      <td>6.000000</td>\n",
       "    </tr>\n",
       "  </tbody>\n",
       "</table>\n",
       "</div>"
      ],
      "text/plain": [
       "        fare_amount  pickup_longitude  pickup_latitude  dropoff_longitude  \\\n",
       "count  61601.000000      61601.000000     61601.000000       61601.000000   \n",
       "mean      11.336889        -72.525348        39.932442         -72.516245   \n",
       "std        9.689110         10.726166         6.213724          10.377714   \n",
       "min      -44.900000       -736.550000       -74.006893         -84.654241   \n",
       "25%        6.000000        -73.992066        40.734985         -73.991205   \n",
       "50%        8.500000        -73.981848        40.752682         -73.980096   \n",
       "75%       12.500000        -73.967258        40.767297         -73.963563   \n",
       "max      200.000000         40.783472       401.083332          40.851027   \n",
       "\n",
       "       dropoff_latitude  passenger_count  \n",
       "count      61601.000000     61601.000000  \n",
       "mean          39.930425         1.671450  \n",
       "std            6.031005         1.295731  \n",
       "min          -74.006377         0.000000  \n",
       "25%           40.734382         1.000000  \n",
       "50%           40.753378         1.000000  \n",
       "75%           40.768187         2.000000  \n",
       "max           43.415190         6.000000  "
      ]
     },
     "execution_count": 4,
     "metadata": {},
     "output_type": "execute_result"
    }
   ],
   "source": [
    "df.describe()"
   ]
  },
  {
   "cell_type": "code",
   "execution_count": 5,
   "id": "f3cf46c5",
   "metadata": {
    "execution": {
     "iopub.execute_input": "2024-09-18T15:45:40.344966Z",
     "iopub.status.busy": "2024-09-18T15:45:40.343979Z",
     "iopub.status.idle": "2024-09-18T15:45:40.357006Z",
     "shell.execute_reply": "2024-09-18T15:45:40.355911Z"
    },
    "papermill": {
     "duration": 0.029695,
     "end_time": "2024-09-18T15:45:40.359561",
     "exception": false,
     "start_time": "2024-09-18T15:45:40.329866",
     "status": "completed"
    },
    "tags": []
   },
   "outputs": [
    {
     "data": {
      "text/plain": [
       "0        0.009436\n",
       "1        0.079696\n",
       "2        0.013674\n",
       "3        0.025340\n",
       "4        0.019470\n",
       "           ...   \n",
       "61596    0.016557\n",
       "61597    0.045210\n",
       "61598    0.004232\n",
       "61599    0.025973\n",
       "61600    0.015658\n",
       "Length: 61601, dtype: float64"
      ]
     },
     "execution_count": 5,
     "metadata": {},
     "output_type": "execute_result"
    }
   ],
   "source": [
    "d1 = df['pickup_latitude'] \n",
    "d2 = df['dropoff_latitude']\n",
    "r1=d1-d2\n",
    "d3= df['pickup_longitude']\n",
    "d4= df['dropoff_longitude']\n",
    "r2 = d3-d4\n",
    "distance = np.sqrt((r1**2)+(r2**2))\n",
    "distance"
   ]
  },
  {
   "cell_type": "code",
   "execution_count": 6,
   "id": "cb4d1257",
   "metadata": {
    "execution": {
     "iopub.execute_input": "2024-09-18T15:45:40.387513Z",
     "iopub.status.busy": "2024-09-18T15:45:40.386738Z",
     "iopub.status.idle": "2024-09-18T15:45:40.405374Z",
     "shell.execute_reply": "2024-09-18T15:45:40.404235Z"
    },
    "papermill": {
     "duration": 0.035295,
     "end_time": "2024-09-18T15:45:40.407969",
     "exception": false,
     "start_time": "2024-09-18T15:45:40.372674",
     "status": "completed"
    },
    "tags": []
   },
   "outputs": [
    {
     "data": {
      "text/html": [
       "<div>\n",
       "<style scoped>\n",
       "    .dataframe tbody tr th:only-of-type {\n",
       "        vertical-align: middle;\n",
       "    }\n",
       "\n",
       "    .dataframe tbody tr th {\n",
       "        vertical-align: top;\n",
       "    }\n",
       "\n",
       "    .dataframe thead th {\n",
       "        text-align: right;\n",
       "    }\n",
       "</style>\n",
       "<table border=\"1\" class=\"dataframe\">\n",
       "  <thead>\n",
       "    <tr style=\"text-align: right;\">\n",
       "      <th></th>\n",
       "      <th>key</th>\n",
       "      <th>fare_amount</th>\n",
       "      <th>pickup_datetime</th>\n",
       "      <th>pickup_longitude</th>\n",
       "      <th>pickup_latitude</th>\n",
       "      <th>dropoff_longitude</th>\n",
       "      <th>dropoff_latitude</th>\n",
       "      <th>Displacement</th>\n",
       "      <th>passenger_count</th>\n",
       "    </tr>\n",
       "  </thead>\n",
       "  <tbody>\n",
       "    <tr>\n",
       "      <th>0</th>\n",
       "      <td>26:21.0</td>\n",
       "      <td>4.5</td>\n",
       "      <td>2009-06-15 17:26:21 UTC</td>\n",
       "      <td>-73.844311</td>\n",
       "      <td>40.721319</td>\n",
       "      <td>-73.841610</td>\n",
       "      <td>40.712278</td>\n",
       "      <td>0.009436</td>\n",
       "      <td>1</td>\n",
       "    </tr>\n",
       "    <tr>\n",
       "      <th>1</th>\n",
       "      <td>52:16.0</td>\n",
       "      <td>16.9</td>\n",
       "      <td>2010-01-05 16:52:16 UTC</td>\n",
       "      <td>-74.016048</td>\n",
       "      <td>40.711303</td>\n",
       "      <td>-73.979268</td>\n",
       "      <td>40.782004</td>\n",
       "      <td>0.079696</td>\n",
       "      <td>1</td>\n",
       "    </tr>\n",
       "    <tr>\n",
       "      <th>2</th>\n",
       "      <td>35:00.0</td>\n",
       "      <td>5.7</td>\n",
       "      <td>2011-08-18 00:35:00 UTC</td>\n",
       "      <td>-73.982738</td>\n",
       "      <td>40.761270</td>\n",
       "      <td>-73.991242</td>\n",
       "      <td>40.750562</td>\n",
       "      <td>0.013674</td>\n",
       "      <td>2</td>\n",
       "    </tr>\n",
       "    <tr>\n",
       "      <th>3</th>\n",
       "      <td>30:42.0</td>\n",
       "      <td>7.7</td>\n",
       "      <td>2012-04-21 04:30:42 UTC</td>\n",
       "      <td>-73.987130</td>\n",
       "      <td>40.733143</td>\n",
       "      <td>-73.991567</td>\n",
       "      <td>40.758092</td>\n",
       "      <td>0.025340</td>\n",
       "      <td>1</td>\n",
       "    </tr>\n",
       "    <tr>\n",
       "      <th>4</th>\n",
       "      <td>51:00.0</td>\n",
       "      <td>5.3</td>\n",
       "      <td>2010-03-09 07:51:00 UTC</td>\n",
       "      <td>-73.968095</td>\n",
       "      <td>40.768008</td>\n",
       "      <td>-73.956655</td>\n",
       "      <td>40.783762</td>\n",
       "      <td>0.019470</td>\n",
       "      <td>1</td>\n",
       "    </tr>\n",
       "  </tbody>\n",
       "</table>\n",
       "</div>"
      ],
      "text/plain": [
       "       key  fare_amount          pickup_datetime  pickup_longitude  \\\n",
       "0  26:21.0          4.5  2009-06-15 17:26:21 UTC        -73.844311   \n",
       "1  52:16.0         16.9  2010-01-05 16:52:16 UTC        -74.016048   \n",
       "2  35:00.0          5.7  2011-08-18 00:35:00 UTC        -73.982738   \n",
       "3  30:42.0          7.7  2012-04-21 04:30:42 UTC        -73.987130   \n",
       "4  51:00.0          5.3  2010-03-09 07:51:00 UTC        -73.968095   \n",
       "\n",
       "   pickup_latitude  dropoff_longitude  dropoff_latitude  Displacement  \\\n",
       "0        40.721319         -73.841610         40.712278      0.009436   \n",
       "1        40.711303         -73.979268         40.782004      0.079696   \n",
       "2        40.761270         -73.991242         40.750562      0.013674   \n",
       "3        40.733143         -73.991567         40.758092      0.025340   \n",
       "4        40.768008         -73.956655         40.783762      0.019470   \n",
       "\n",
       "   passenger_count  \n",
       "0                1  \n",
       "1                1  \n",
       "2                2  \n",
       "3                1  \n",
       "4                1  "
      ]
     },
     "execution_count": 6,
     "metadata": {},
     "output_type": "execute_result"
    }
   ],
   "source": [
    "df.insert(7, 'Displacement',distance)\n",
    "df.head()\n"
   ]
  },
  {
   "cell_type": "code",
   "execution_count": 7,
   "id": "0fe4c1f7",
   "metadata": {
    "execution": {
     "iopub.execute_input": "2024-09-18T15:45:40.436104Z",
     "iopub.status.busy": "2024-09-18T15:45:40.435654Z",
     "iopub.status.idle": "2024-09-18T15:45:40.458313Z",
     "shell.execute_reply": "2024-09-18T15:45:40.457288Z"
    },
    "papermill": {
     "duration": 0.039608,
     "end_time": "2024-09-18T15:45:40.460829",
     "exception": false,
     "start_time": "2024-09-18T15:45:40.421221",
     "status": "completed"
    },
    "tags": []
   },
   "outputs": [
    {
     "data": {
      "text/html": [
       "<div>\n",
       "<style scoped>\n",
       "    .dataframe tbody tr th:only-of-type {\n",
       "        vertical-align: middle;\n",
       "    }\n",
       "\n",
       "    .dataframe tbody tr th {\n",
       "        vertical-align: top;\n",
       "    }\n",
       "\n",
       "    .dataframe thead th {\n",
       "        text-align: right;\n",
       "    }\n",
       "</style>\n",
       "<table border=\"1\" class=\"dataframe\">\n",
       "  <thead>\n",
       "    <tr style=\"text-align: right;\">\n",
       "      <th></th>\n",
       "      <th>fare_amount</th>\n",
       "      <th>pickup_datetime</th>\n",
       "      <th>pickup_longitude</th>\n",
       "      <th>pickup_latitude</th>\n",
       "      <th>dropoff_longitude</th>\n",
       "      <th>dropoff_latitude</th>\n",
       "      <th>Displacement</th>\n",
       "      <th>passenger_count</th>\n",
       "    </tr>\n",
       "  </thead>\n",
       "  <tbody>\n",
       "    <tr>\n",
       "      <th>0</th>\n",
       "      <td>4.5</td>\n",
       "      <td>2009-06-15 17:26:21 UTC</td>\n",
       "      <td>-73.844311</td>\n",
       "      <td>40.721319</td>\n",
       "      <td>-73.841610</td>\n",
       "      <td>40.712278</td>\n",
       "      <td>0.009436</td>\n",
       "      <td>1</td>\n",
       "    </tr>\n",
       "    <tr>\n",
       "      <th>1</th>\n",
       "      <td>16.9</td>\n",
       "      <td>2010-01-05 16:52:16 UTC</td>\n",
       "      <td>-74.016048</td>\n",
       "      <td>40.711303</td>\n",
       "      <td>-73.979268</td>\n",
       "      <td>40.782004</td>\n",
       "      <td>0.079696</td>\n",
       "      <td>1</td>\n",
       "    </tr>\n",
       "    <tr>\n",
       "      <th>2</th>\n",
       "      <td>5.7</td>\n",
       "      <td>2011-08-18 00:35:00 UTC</td>\n",
       "      <td>-73.982738</td>\n",
       "      <td>40.761270</td>\n",
       "      <td>-73.991242</td>\n",
       "      <td>40.750562</td>\n",
       "      <td>0.013674</td>\n",
       "      <td>2</td>\n",
       "    </tr>\n",
       "    <tr>\n",
       "      <th>3</th>\n",
       "      <td>7.7</td>\n",
       "      <td>2012-04-21 04:30:42 UTC</td>\n",
       "      <td>-73.987130</td>\n",
       "      <td>40.733143</td>\n",
       "      <td>-73.991567</td>\n",
       "      <td>40.758092</td>\n",
       "      <td>0.025340</td>\n",
       "      <td>1</td>\n",
       "    </tr>\n",
       "    <tr>\n",
       "      <th>4</th>\n",
       "      <td>5.3</td>\n",
       "      <td>2010-03-09 07:51:00 UTC</td>\n",
       "      <td>-73.968095</td>\n",
       "      <td>40.768008</td>\n",
       "      <td>-73.956655</td>\n",
       "      <td>40.783762</td>\n",
       "      <td>0.019470</td>\n",
       "      <td>1</td>\n",
       "    </tr>\n",
       "  </tbody>\n",
       "</table>\n",
       "</div>"
      ],
      "text/plain": [
       "   fare_amount          pickup_datetime  pickup_longitude  pickup_latitude  \\\n",
       "0          4.5  2009-06-15 17:26:21 UTC        -73.844311        40.721319   \n",
       "1         16.9  2010-01-05 16:52:16 UTC        -74.016048        40.711303   \n",
       "2          5.7  2011-08-18 00:35:00 UTC        -73.982738        40.761270   \n",
       "3          7.7  2012-04-21 04:30:42 UTC        -73.987130        40.733143   \n",
       "4          5.3  2010-03-09 07:51:00 UTC        -73.968095        40.768008   \n",
       "\n",
       "   dropoff_longitude  dropoff_latitude  Displacement  passenger_count  \n",
       "0         -73.841610         40.712278      0.009436                1  \n",
       "1         -73.979268         40.782004      0.079696                1  \n",
       "2         -73.991242         40.750562      0.013674                2  \n",
       "3         -73.991567         40.758092      0.025340                1  \n",
       "4         -73.956655         40.783762      0.019470                1  "
      ]
     },
     "execution_count": 7,
     "metadata": {},
     "output_type": "execute_result"
    }
   ],
   "source": [
    "df.drop(['key'] , axis=1 , inplace=True)\n",
    "df.head()"
   ]
  },
  {
   "cell_type": "code",
   "execution_count": 8,
   "id": "9c1fd945",
   "metadata": {
    "execution": {
     "iopub.execute_input": "2024-09-18T15:45:40.489395Z",
     "iopub.status.busy": "2024-09-18T15:45:40.488945Z",
     "iopub.status.idle": "2024-09-18T15:45:41.632695Z",
     "shell.execute_reply": "2024-09-18T15:45:41.631672Z"
    },
    "papermill": {
     "duration": 1.1612,
     "end_time": "2024-09-18T15:45:41.635504",
     "exception": false,
     "start_time": "2024-09-18T15:45:40.474304",
     "status": "completed"
    },
    "tags": []
   },
   "outputs": [],
   "source": [
    "df['pickup_datetime'] = pd.to_datetime(df['pickup_datetime'])\n",
    "df['hour'] = df['pickup_datetime'].dt.hour\n",
    "df['dayofweek'] = df['pickup_datetime'].dt.dayofweek"
   ]
  },
  {
   "cell_type": "code",
   "execution_count": 9,
   "id": "32145e4f",
   "metadata": {
    "execution": {
     "iopub.execute_input": "2024-09-18T15:45:41.664434Z",
     "iopub.status.busy": "2024-09-18T15:45:41.663594Z",
     "iopub.status.idle": "2024-09-18T15:45:41.674931Z",
     "shell.execute_reply": "2024-09-18T15:45:41.673853Z"
    },
    "papermill": {
     "duration": 0.028318,
     "end_time": "2024-09-18T15:45:41.677433",
     "exception": false,
     "start_time": "2024-09-18T15:45:41.649115",
     "status": "completed"
    },
    "tags": []
   },
   "outputs": [],
   "source": [
    "df.drop(['pickup_datetime'] , axis=1 , inplace=True)"
   ]
  },
  {
   "cell_type": "code",
   "execution_count": 10,
   "id": "f24df638",
   "metadata": {
    "execution": {
     "iopub.execute_input": "2024-09-18T15:45:41.705935Z",
     "iopub.status.busy": "2024-09-18T15:45:41.705514Z",
     "iopub.status.idle": "2024-09-18T15:45:41.722811Z",
     "shell.execute_reply": "2024-09-18T15:45:41.721521Z"
    },
    "papermill": {
     "duration": 0.03438,
     "end_time": "2024-09-18T15:45:41.725236",
     "exception": false,
     "start_time": "2024-09-18T15:45:41.690856",
     "status": "completed"
    },
    "tags": []
   },
   "outputs": [
    {
     "data": {
      "text/html": [
       "<div>\n",
       "<style scoped>\n",
       "    .dataframe tbody tr th:only-of-type {\n",
       "        vertical-align: middle;\n",
       "    }\n",
       "\n",
       "    .dataframe tbody tr th {\n",
       "        vertical-align: top;\n",
       "    }\n",
       "\n",
       "    .dataframe thead th {\n",
       "        text-align: right;\n",
       "    }\n",
       "</style>\n",
       "<table border=\"1\" class=\"dataframe\">\n",
       "  <thead>\n",
       "    <tr style=\"text-align: right;\">\n",
       "      <th></th>\n",
       "      <th>fare_amount</th>\n",
       "      <th>pickup_longitude</th>\n",
       "      <th>pickup_latitude</th>\n",
       "      <th>dropoff_longitude</th>\n",
       "      <th>dropoff_latitude</th>\n",
       "      <th>Displacement</th>\n",
       "      <th>passenger_count</th>\n",
       "      <th>hour</th>\n",
       "      <th>dayofweek</th>\n",
       "    </tr>\n",
       "  </thead>\n",
       "  <tbody>\n",
       "    <tr>\n",
       "      <th>0</th>\n",
       "      <td>4.5</td>\n",
       "      <td>-73.844311</td>\n",
       "      <td>40.721319</td>\n",
       "      <td>-73.841610</td>\n",
       "      <td>40.712278</td>\n",
       "      <td>0.009436</td>\n",
       "      <td>1</td>\n",
       "      <td>17</td>\n",
       "      <td>0</td>\n",
       "    </tr>\n",
       "    <tr>\n",
       "      <th>1</th>\n",
       "      <td>16.9</td>\n",
       "      <td>-74.016048</td>\n",
       "      <td>40.711303</td>\n",
       "      <td>-73.979268</td>\n",
       "      <td>40.782004</td>\n",
       "      <td>0.079696</td>\n",
       "      <td>1</td>\n",
       "      <td>16</td>\n",
       "      <td>1</td>\n",
       "    </tr>\n",
       "    <tr>\n",
       "      <th>2</th>\n",
       "      <td>5.7</td>\n",
       "      <td>-73.982738</td>\n",
       "      <td>40.761270</td>\n",
       "      <td>-73.991242</td>\n",
       "      <td>40.750562</td>\n",
       "      <td>0.013674</td>\n",
       "      <td>2</td>\n",
       "      <td>0</td>\n",
       "      <td>3</td>\n",
       "    </tr>\n",
       "    <tr>\n",
       "      <th>3</th>\n",
       "      <td>7.7</td>\n",
       "      <td>-73.987130</td>\n",
       "      <td>40.733143</td>\n",
       "      <td>-73.991567</td>\n",
       "      <td>40.758092</td>\n",
       "      <td>0.025340</td>\n",
       "      <td>1</td>\n",
       "      <td>4</td>\n",
       "      <td>5</td>\n",
       "    </tr>\n",
       "    <tr>\n",
       "      <th>4</th>\n",
       "      <td>5.3</td>\n",
       "      <td>-73.968095</td>\n",
       "      <td>40.768008</td>\n",
       "      <td>-73.956655</td>\n",
       "      <td>40.783762</td>\n",
       "      <td>0.019470</td>\n",
       "      <td>1</td>\n",
       "      <td>7</td>\n",
       "      <td>1</td>\n",
       "    </tr>\n",
       "  </tbody>\n",
       "</table>\n",
       "</div>"
      ],
      "text/plain": [
       "   fare_amount  pickup_longitude  pickup_latitude  dropoff_longitude  \\\n",
       "0          4.5        -73.844311        40.721319         -73.841610   \n",
       "1         16.9        -74.016048        40.711303         -73.979268   \n",
       "2          5.7        -73.982738        40.761270         -73.991242   \n",
       "3          7.7        -73.987130        40.733143         -73.991567   \n",
       "4          5.3        -73.968095        40.768008         -73.956655   \n",
       "\n",
       "   dropoff_latitude  Displacement  passenger_count  hour  dayofweek  \n",
       "0         40.712278      0.009436                1    17          0  \n",
       "1         40.782004      0.079696                1    16          1  \n",
       "2         40.750562      0.013674                2     0          3  \n",
       "3         40.758092      0.025340                1     4          5  \n",
       "4         40.783762      0.019470                1     7          1  "
      ]
     },
     "execution_count": 10,
     "metadata": {},
     "output_type": "execute_result"
    }
   ],
   "source": [
    "df.head()"
   ]
  },
  {
   "cell_type": "markdown",
   "id": "ae20d358",
   "metadata": {
    "papermill": {
     "duration": 0.013489,
     "end_time": "2024-09-18T15:45:41.752513",
     "exception": false,
     "start_time": "2024-09-18T15:45:41.739024",
     "status": "completed"
    },
    "tags": []
   },
   "source": [
    "# Checking for dtypes"
   ]
  },
  {
   "cell_type": "code",
   "execution_count": 11,
   "id": "9a57c850",
   "metadata": {
    "execution": {
     "iopub.execute_input": "2024-09-18T15:45:41.782267Z",
     "iopub.status.busy": "2024-09-18T15:45:41.781792Z",
     "iopub.status.idle": "2024-09-18T15:45:41.817689Z",
     "shell.execute_reply": "2024-09-18T15:45:41.816657Z"
    },
    "papermill": {
     "duration": 0.053587,
     "end_time": "2024-09-18T15:45:41.820405",
     "exception": false,
     "start_time": "2024-09-18T15:45:41.766818",
     "status": "completed"
    },
    "tags": []
   },
   "outputs": [
    {
     "data": {
      "text/html": [
       "<div>\n",
       "<style scoped>\n",
       "    .dataframe tbody tr th:only-of-type {\n",
       "        vertical-align: middle;\n",
       "    }\n",
       "\n",
       "    .dataframe tbody tr th {\n",
       "        vertical-align: top;\n",
       "    }\n",
       "\n",
       "    .dataframe thead th {\n",
       "        text-align: right;\n",
       "    }\n",
       "</style>\n",
       "<table border=\"1\" class=\"dataframe\">\n",
       "  <thead>\n",
       "    <tr style=\"text-align: right;\">\n",
       "      <th></th>\n",
       "      <th>fare_amount</th>\n",
       "      <th>pickup_longitude</th>\n",
       "      <th>pickup_latitude</th>\n",
       "      <th>dropoff_longitude</th>\n",
       "      <th>dropoff_latitude</th>\n",
       "      <th>Displacement</th>\n",
       "      <th>passenger_count</th>\n",
       "      <th>hour</th>\n",
       "      <th>dayofweek</th>\n",
       "    </tr>\n",
       "  </thead>\n",
       "  <tbody>\n",
       "    <tr>\n",
       "      <th>Data Type</th>\n",
       "      <td>float64</td>\n",
       "      <td>float64</td>\n",
       "      <td>float64</td>\n",
       "      <td>float64</td>\n",
       "      <td>float64</td>\n",
       "      <td>float64</td>\n",
       "      <td>int64</td>\n",
       "      <td>int32</td>\n",
       "      <td>int32</td>\n",
       "    </tr>\n",
       "    <tr>\n",
       "      <th># of uniques</th>\n",
       "      <td>751</td>\n",
       "      <td>38726</td>\n",
       "      <td>42550</td>\n",
       "      <td>40368</td>\n",
       "      <td>43934</td>\n",
       "      <td>59806</td>\n",
       "      <td>7</td>\n",
       "      <td>24</td>\n",
       "      <td>7</td>\n",
       "    </tr>\n",
       "  </tbody>\n",
       "</table>\n",
       "</div>"
      ],
      "text/plain": [
       "             fare_amount pickup_longitude pickup_latitude dropoff_longitude  \\\n",
       "Data Type        float64          float64         float64           float64   \n",
       "# of uniques         751            38726           42550             40368   \n",
       "\n",
       "             dropoff_latitude Displacement passenger_count   hour dayofweek  \n",
       "Data Type             float64      float64           int64  int32     int32  \n",
       "# of uniques            43934        59806               7     24         7  "
      ]
     },
     "execution_count": 11,
     "metadata": {},
     "output_type": "execute_result"
    }
   ],
   "source": [
    "dtypes = df.dtypes\n",
    "unumber = df.nunique()\n",
    "pd.DataFrame({'Data Type':dtypes , '# of uniques':unumber}).T"
   ]
  },
  {
   "cell_type": "markdown",
   "id": "9a4a0a8a",
   "metadata": {
    "papermill": {
     "duration": 0.013706,
     "end_time": "2024-09-18T15:45:41.848075",
     "exception": false,
     "start_time": "2024-09-18T15:45:41.834369",
     "status": "completed"
    },
    "tags": []
   },
   "source": [
    "# Handling missing values"
   ]
  },
  {
   "cell_type": "code",
   "execution_count": 12,
   "id": "9949647e",
   "metadata": {
    "execution": {
     "iopub.execute_input": "2024-09-18T15:45:41.878112Z",
     "iopub.status.busy": "2024-09-18T15:45:41.877125Z",
     "iopub.status.idle": "2024-09-18T15:45:41.892589Z",
     "shell.execute_reply": "2024-09-18T15:45:41.891525Z"
    },
    "papermill": {
     "duration": 0.033095,
     "end_time": "2024-09-18T15:45:41.895136",
     "exception": false,
     "start_time": "2024-09-18T15:45:41.862041",
     "status": "completed"
    },
    "tags": []
   },
   "outputs": [
    {
     "data": {
      "text/html": [
       "<div>\n",
       "<style scoped>\n",
       "    .dataframe tbody tr th:only-of-type {\n",
       "        vertical-align: middle;\n",
       "    }\n",
       "\n",
       "    .dataframe tbody tr th {\n",
       "        vertical-align: top;\n",
       "    }\n",
       "\n",
       "    .dataframe thead th {\n",
       "        text-align: right;\n",
       "    }\n",
       "</style>\n",
       "<table border=\"1\" class=\"dataframe\">\n",
       "  <thead>\n",
       "    <tr style=\"text-align: right;\">\n",
       "      <th></th>\n",
       "      <th>fare_amount</th>\n",
       "      <th>pickup_longitude</th>\n",
       "      <th>pickup_latitude</th>\n",
       "      <th>dropoff_longitude</th>\n",
       "      <th>dropoff_latitude</th>\n",
       "      <th>Displacement</th>\n",
       "      <th>passenger_count</th>\n",
       "      <th>hour</th>\n",
       "      <th>dayofweek</th>\n",
       "    </tr>\n",
       "  </thead>\n",
       "  <tbody>\n",
       "    <tr>\n",
       "      <th>Null Values</th>\n",
       "      <td>0</td>\n",
       "      <td>0</td>\n",
       "      <td>0</td>\n",
       "      <td>0</td>\n",
       "      <td>0</td>\n",
       "      <td>0</td>\n",
       "      <td>0</td>\n",
       "      <td>0</td>\n",
       "      <td>0</td>\n",
       "    </tr>\n",
       "  </tbody>\n",
       "</table>\n",
       "</div>"
      ],
      "text/plain": [
       "             fare_amount  pickup_longitude  pickup_latitude  \\\n",
       "Null Values            0                 0                0   \n",
       "\n",
       "             dropoff_longitude  dropoff_latitude  Displacement  \\\n",
       "Null Values                  0                 0             0   \n",
       "\n",
       "             passenger_count  hour  dayofweek  \n",
       "Null Values                0     0          0  "
      ]
     },
     "execution_count": 12,
     "metadata": {},
     "output_type": "execute_result"
    }
   ],
   "source": [
    "nulls = df.isnull().sum()\n",
    "pd.DataFrame({'Null Values':nulls}).T"
   ]
  },
  {
   "cell_type": "markdown",
   "id": "afcb863a",
   "metadata": {
    "papermill": {
     "duration": 0.013808,
     "end_time": "2024-09-18T15:45:41.922991",
     "exception": false,
     "start_time": "2024-09-18T15:45:41.909183",
     "status": "completed"
    },
    "tags": []
   },
   "source": [
    "# Handling Outliers"
   ]
  },
  {
   "cell_type": "code",
   "execution_count": 13,
   "id": "1d1938f9",
   "metadata": {
    "execution": {
     "iopub.execute_input": "2024-09-18T15:45:41.952966Z",
     "iopub.status.busy": "2024-09-18T15:45:41.952537Z",
     "iopub.status.idle": "2024-09-18T15:45:43.518100Z",
     "shell.execute_reply": "2024-09-18T15:45:43.516952Z"
    },
    "papermill": {
     "duration": 1.583609,
     "end_time": "2024-09-18T15:45:43.520706",
     "exception": false,
     "start_time": "2024-09-18T15:45:41.937097",
     "status": "completed"
    },
    "tags": []
   },
   "outputs": [
    {
     "data": {
      "image/png": "[encoded data removed]",
      "text/plain": [
       "<Figure size 2500x400 with 9 Axes>"
      ]
     },
     "metadata": {},
     "output_type": "display_data"
    }
   ],
   "source": [
    "Numeric_columns = df.select_dtypes('number').columns\n",
    "Numeric_columns\n",
    "plt.figure(figsize=(25,4))\n",
    "for i , col in enumerate(Numeric_columns):\n",
    "    plt.subplot(1,9,i+1)\n",
    "    plt.boxplot(df[col])\n",
    "    plt.title(f'{col} Box Plot')\n",
    "plt.show() "
   ]
  },
  {
   "cell_type": "code",
   "execution_count": 14,
   "id": "9f4d277a",
   "metadata": {
    "execution": {
     "iopub.execute_input": "2024-09-18T15:45:43.554438Z",
     "iopub.status.busy": "2024-09-18T15:45:43.553346Z",
     "iopub.status.idle": "2024-09-18T15:45:49.938602Z",
     "shell.execute_reply": "2024-09-18T15:45:49.937493Z"
    },
    "papermill": {
     "duration": 6.404878,
     "end_time": "2024-09-18T15:45:49.941397",
     "exception": false,
     "start_time": "2024-09-18T15:45:43.536519",
     "status": "completed"
    },
    "tags": []
   },
   "outputs": [],
   "source": [
    "for col in Numeric_columns:\n",
    "    Q1 = df[col].quantile(0.25)\n",
    "    Q3 = df[col].quantile(0.75)\n",
    "    IQR = Q3 - Q1\n",
    "    Upper_Fennse = Q3 + (1.5*IQR)\n",
    "    lower_fennse = Q1 - (1.5*IQR)\n",
    "    Low_Outlier = df[df[col] < lower_fennse][col].values\n",
    "    Up_Outlier = df[df[col] > Upper_Fennse][col].values\n",
    "    df[col].replace(Low_Outlier , lower_fennse , inplace=True)\n",
    "    df[col].replace(Up_Outlier , Upper_Fennse , inplace=True)"
   ]
  },
  {
   "cell_type": "code",
   "execution_count": 15,
   "id": "689b7c08",
   "metadata": {
    "execution": {
     "iopub.execute_input": "2024-09-18T15:45:49.973983Z",
     "iopub.status.busy": "2024-09-18T15:45:49.973028Z",
     "iopub.status.idle": "2024-09-18T15:45:51.521289Z",
     "shell.execute_reply": "2024-09-18T15:45:51.520077Z"
    },
    "papermill": {
     "duration": 1.56723,
     "end_time": "2024-09-18T15:45:51.523932",
     "exception": false,
     "start_time": "2024-09-18T15:45:49.956702",
     "status": "completed"
    },
    "tags": []
   },
   "outputs": [
    {
     "data": {
      "image/png": "[encoded data removed]",
      "text/plain": [
       "<Figure size 2500x400 with 9 Axes>"
      ]
     },
     "metadata": {},
     "output_type": "display_data"
    }
   ],
   "source": [
    "Numeric_columns = df.select_dtypes('number').columns\n",
    "Numeric_columns\n",
    "plt.figure(figsize=(25,4))\n",
    "for i , col in enumerate(Numeric_columns):\n",
    "    plt.subplot(1,9,i+1)\n",
    "    plt.boxplot(df[col])\n",
    "    plt.title(f'{col} Box Plot')\n",
    "plt.show() "
   ]
  },
  {
   "cell_type": "markdown",
   "id": "2cd3e0d5",
   "metadata": {
    "papermill": {
     "duration": 0.016563,
     "end_time": "2024-09-18T15:45:51.557329",
     "exception": false,
     "start_time": "2024-09-18T15:45:51.540766",
     "status": "completed"
    },
    "tags": []
   },
   "source": [
    "# Visualizations"
   ]
  },
  {
   "cell_type": "code",
   "execution_count": null,
   "id": "973f17ec",
   "metadata": {
    "papermill": {
     "duration": 0.016152,
     "end_time": "2024-09-18T15:45:51.590045",
     "exception": false,
     "start_time": "2024-09-18T15:45:51.573893",
     "status": "completed"
    },
    "tags": []
   },
   "outputs": [],
   "source": []
  },
  {
   "cell_type": "markdown",
   "id": "7b0c7fa2",
   "metadata": {
    "papermill": {
     "duration": 0.016226,
     "end_time": "2024-09-18T15:45:51.623174",
     "exception": false,
     "start_time": "2024-09-18T15:45:51.606948",
     "status": "completed"
    },
    "tags": []
   },
   "source": [
    "# Removing Dublicates"
   ]
  },
  {
   "cell_type": "code",
   "execution_count": 16,
   "id": "fc38195d",
   "metadata": {
    "execution": {
     "iopub.execute_input": "2024-09-18T15:45:51.658111Z",
     "iopub.status.busy": "2024-09-18T15:45:51.657326Z",
     "iopub.status.idle": "2024-09-18T15:45:51.689850Z",
     "shell.execute_reply": "2024-09-18T15:45:51.688648Z"
    },
    "papermill": {
     "duration": 0.052726,
     "end_time": "2024-09-18T15:45:51.692401",
     "exception": false,
     "start_time": "2024-09-18T15:45:51.639675",
     "status": "completed"
    },
    "tags": []
   },
   "outputs": [
    {
     "data": {
      "text/plain": [
       "68"
      ]
     },
     "execution_count": 16,
     "metadata": {},
     "output_type": "execute_result"
    }
   ],
   "source": [
    "df.duplicated().sum()"
   ]
  },
  {
   "cell_type": "code",
   "execution_count": 17,
   "id": "919474c5",
   "metadata": {
    "execution": {
     "iopub.execute_input": "2024-09-18T15:45:51.727560Z",
     "iopub.status.busy": "2024-09-18T15:45:51.726810Z",
     "iopub.status.idle": "2024-09-18T15:45:51.771139Z",
     "shell.execute_reply": "2024-09-18T15:45:51.770107Z"
    },
    "papermill": {
     "duration": 0.064821,
     "end_time": "2024-09-18T15:45:51.773868",
     "exception": false,
     "start_time": "2024-09-18T15:45:51.709047",
     "status": "completed"
    },
    "tags": []
   },
   "outputs": [],
   "source": [
    "df.drop_duplicates(inplace=True)"
   ]
  },
  {
   "cell_type": "code",
   "execution_count": 18,
   "id": "96c4776c",
   "metadata": {
    "execution": {
     "iopub.execute_input": "2024-09-18T15:45:51.809269Z",
     "iopub.status.busy": "2024-09-18T15:45:51.808519Z",
     "iopub.status.idle": "2024-09-18T15:45:51.841940Z",
     "shell.execute_reply": "2024-09-18T15:45:51.840744Z"
    },
    "papermill": {
     "duration": 0.053846,
     "end_time": "2024-09-18T15:45:51.844533",
     "exception": false,
     "start_time": "2024-09-18T15:45:51.790687",
     "status": "completed"
    },
    "tags": []
   },
   "outputs": [
    {
     "data": {
      "text/plain": [
       "0"
      ]
     },
     "execution_count": 18,
     "metadata": {},
     "output_type": "execute_result"
    }
   ],
   "source": [
    "df.duplicated().sum()"
   ]
  },
  {
   "cell_type": "markdown",
   "id": "32946a85",
   "metadata": {
    "papermill": {
     "duration": 0.016437,
     "end_time": "2024-09-18T15:45:51.877658",
     "exception": false,
     "start_time": "2024-09-18T15:45:51.861221",
     "status": "completed"
    },
    "tags": []
   },
   "source": [
    "# Data Splitting"
   ]
  },
  {
   "cell_type": "code",
   "execution_count": 19,
   "id": "09079aa1",
   "metadata": {
    "execution": {
     "iopub.execute_input": "2024-09-18T15:45:51.912765Z",
     "iopub.status.busy": "2024-09-18T15:45:51.912191Z",
     "iopub.status.idle": "2024-09-18T15:45:51.920419Z",
     "shell.execute_reply": "2024-09-18T15:45:51.919313Z"
    },
    "papermill": {
     "duration": 0.02877,
     "end_time": "2024-09-18T15:45:51.923017",
     "exception": false,
     "start_time": "2024-09-18T15:45:51.894247",
     "status": "completed"
    },
    "tags": []
   },
   "outputs": [],
   "source": [
    "x=df.drop(['fare_amount'] , axis=1)\n",
    "y=df[['fare_amount']]"
   ]
  },
  {
   "cell_type": "code",
   "execution_count": 20,
   "id": "09cdc68e",
   "metadata": {
    "execution": {
     "iopub.execute_input": "2024-09-18T15:45:51.959602Z",
     "iopub.status.busy": "2024-09-18T15:45:51.958409Z",
     "iopub.status.idle": "2024-09-18T15:45:51.975508Z",
     "shell.execute_reply": "2024-09-18T15:45:51.974224Z"
    },
    "papermill": {
     "duration": 0.037904,
     "end_time": "2024-09-18T15:45:51.977807",
     "exception": false,
     "start_time": "2024-09-18T15:45:51.939903",
     "status": "completed"
    },
    "tags": []
   },
   "outputs": [
    {
     "data": {
      "text/html": [
       "<div>\n",
       "<style scoped>\n",
       "    .dataframe tbody tr th:only-of-type {\n",
       "        vertical-align: middle;\n",
       "    }\n",
       "\n",
       "    .dataframe tbody tr th {\n",
       "        vertical-align: top;\n",
       "    }\n",
       "\n",
       "    .dataframe thead th {\n",
       "        text-align: right;\n",
       "    }\n",
       "</style>\n",
       "<table border=\"1\" class=\"dataframe\">\n",
       "  <thead>\n",
       "    <tr style=\"text-align: right;\">\n",
       "      <th></th>\n",
       "      <th>pickup_longitude</th>\n",
       "      <th>pickup_latitude</th>\n",
       "      <th>dropoff_longitude</th>\n",
       "      <th>dropoff_latitude</th>\n",
       "      <th>Displacement</th>\n",
       "      <th>passenger_count</th>\n",
       "      <th>hour</th>\n",
       "      <th>dayofweek</th>\n",
       "    </tr>\n",
       "  </thead>\n",
       "  <tbody>\n",
       "    <tr>\n",
       "      <th>0</th>\n",
       "      <td>-73.930046</td>\n",
       "      <td>40.721319</td>\n",
       "      <td>-73.922100</td>\n",
       "      <td>40.712278</td>\n",
       "      <td>0.009436</td>\n",
       "      <td>1.0</td>\n",
       "      <td>17</td>\n",
       "      <td>0</td>\n",
       "    </tr>\n",
       "    <tr>\n",
       "      <th>1</th>\n",
       "      <td>-74.016048</td>\n",
       "      <td>40.711303</td>\n",
       "      <td>-73.979268</td>\n",
       "      <td>40.782004</td>\n",
       "      <td>0.077811</td>\n",
       "      <td>1.0</td>\n",
       "      <td>16</td>\n",
       "      <td>1</td>\n",
       "    </tr>\n",
       "    <tr>\n",
       "      <th>2</th>\n",
       "      <td>-73.982738</td>\n",
       "      <td>40.761270</td>\n",
       "      <td>-73.991242</td>\n",
       "      <td>40.750562</td>\n",
       "      <td>0.013674</td>\n",
       "      <td>2.0</td>\n",
       "      <td>0</td>\n",
       "      <td>3</td>\n",
       "    </tr>\n",
       "    <tr>\n",
       "      <th>3</th>\n",
       "      <td>-73.987130</td>\n",
       "      <td>40.733143</td>\n",
       "      <td>-73.991567</td>\n",
       "      <td>40.758092</td>\n",
       "      <td>0.025340</td>\n",
       "      <td>1.0</td>\n",
       "      <td>4</td>\n",
       "      <td>5</td>\n",
       "    </tr>\n",
       "    <tr>\n",
       "      <th>4</th>\n",
       "      <td>-73.968095</td>\n",
       "      <td>40.768008</td>\n",
       "      <td>-73.956655</td>\n",
       "      <td>40.783762</td>\n",
       "      <td>0.019470</td>\n",
       "      <td>1.0</td>\n",
       "      <td>7</td>\n",
       "      <td>1</td>\n",
       "    </tr>\n",
       "  </tbody>\n",
       "</table>\n",
       "</div>"
      ],
      "text/plain": [
       "   pickup_longitude  pickup_latitude  dropoff_longitude  dropoff_latitude  \\\n",
       "0        -73.930046        40.721319         -73.922100         40.712278   \n",
       "1        -74.016048        40.711303         -73.979268         40.782004   \n",
       "2        -73.982738        40.761270         -73.991242         40.750562   \n",
       "3        -73.987130        40.733143         -73.991567         40.758092   \n",
       "4        -73.968095        40.768008         -73.956655         40.783762   \n",
       "\n",
       "   Displacement  passenger_count  hour  dayofweek  \n",
       "0      0.009436              1.0    17          0  \n",
       "1      0.077811              1.0    16          1  \n",
       "2      0.013674              2.0     0          3  \n",
       "3      0.025340              1.0     4          5  \n",
       "4      0.019470              1.0     7          1  "
      ]
     },
     "execution_count": 20,
     "metadata": {},
     "output_type": "execute_result"
    }
   ],
   "source": [
    "x.head()"
   ]
  },
  {
   "cell_type": "code",
   "execution_count": 21,
   "id": "c7934534",
   "metadata": {
    "execution": {
     "iopub.execute_input": "2024-09-18T15:45:52.013601Z",
     "iopub.status.busy": "2024-09-18T15:45:52.013133Z",
     "iopub.status.idle": "2024-09-18T15:45:52.023925Z",
     "shell.execute_reply": "2024-09-18T15:45:52.022805Z"
    },
    "papermill": {
     "duration": 0.031445,
     "end_time": "2024-09-18T15:45:52.026320",
     "exception": false,
     "start_time": "2024-09-18T15:45:51.994875",
     "status": "completed"
    },
    "tags": []
   },
   "outputs": [
    {
     "data": {
      "text/html": [
       "<div>\n",
       "<style scoped>\n",
       "    .dataframe tbody tr th:only-of-type {\n",
       "        vertical-align: middle;\n",
       "    }\n",
       "\n",
       "    .dataframe tbody tr th {\n",
       "        vertical-align: top;\n",
       "    }\n",
       "\n",
       "    .dataframe thead th {\n",
       "        text-align: right;\n",
       "    }\n",
       "</style>\n",
       "<table border=\"1\" class=\"dataframe\">\n",
       "  <thead>\n",
       "    <tr style=\"text-align: right;\">\n",
       "      <th></th>\n",
       "      <th>fare_amount</th>\n",
       "    </tr>\n",
       "  </thead>\n",
       "  <tbody>\n",
       "    <tr>\n",
       "      <th>0</th>\n",
       "      <td>4.5</td>\n",
       "    </tr>\n",
       "    <tr>\n",
       "      <th>1</th>\n",
       "      <td>16.9</td>\n",
       "    </tr>\n",
       "    <tr>\n",
       "      <th>2</th>\n",
       "      <td>5.7</td>\n",
       "    </tr>\n",
       "    <tr>\n",
       "      <th>3</th>\n",
       "      <td>7.7</td>\n",
       "    </tr>\n",
       "    <tr>\n",
       "      <th>4</th>\n",
       "      <td>5.3</td>\n",
       "    </tr>\n",
       "  </tbody>\n",
       "</table>\n",
       "</div>"
      ],
      "text/plain": [
       "   fare_amount\n",
       "0          4.5\n",
       "1         16.9\n",
       "2          5.7\n",
       "3          7.7\n",
       "4          5.3"
      ]
     },
     "execution_count": 21,
     "metadata": {},
     "output_type": "execute_result"
    }
   ],
   "source": [
    "y.head()"
   ]
  },
  {
   "cell_type": "markdown",
   "id": "30380136",
   "metadata": {
    "papermill": {
     "duration": 0.016774,
     "end_time": "2024-09-18T15:45:52.060425",
     "exception": false,
     "start_time": "2024-09-18T15:45:52.043651",
     "status": "completed"
    },
    "tags": []
   },
   "source": [
    "# Normalization"
   ]
  },
  {
   "cell_type": "code",
   "execution_count": 22,
   "id": "6b033040",
   "metadata": {
    "execution": {
     "iopub.execute_input": "2024-09-18T15:45:52.097226Z",
     "iopub.status.busy": "2024-09-18T15:45:52.096220Z",
     "iopub.status.idle": "2024-09-18T15:45:52.291000Z",
     "shell.execute_reply": "2024-09-18T15:45:52.289852Z"
    },
    "papermill": {
     "duration": 0.216027,
     "end_time": "2024-09-18T15:45:52.293642",
     "exception": false,
     "start_time": "2024-09-18T15:45:52.077615",
     "status": "completed"
    },
    "tags": []
   },
   "outputs": [
    {
     "data": {
      "text/html": [
       "<div>\n",
       "<style scoped>\n",
       "    .dataframe tbody tr th:only-of-type {\n",
       "        vertical-align: middle;\n",
       "    }\n",
       "\n",
       "    .dataframe tbody tr th {\n",
       "        vertical-align: top;\n",
       "    }\n",
       "\n",
       "    .dataframe thead th {\n",
       "        text-align: right;\n",
       "    }\n",
       "</style>\n",
       "<table border=\"1\" class=\"dataframe\">\n",
       "  <thead>\n",
       "    <tr style=\"text-align: right;\">\n",
       "      <th></th>\n",
       "      <th>fare_amount</th>\n",
       "      <th>pickup_longitude</th>\n",
       "      <th>pickup_latitude</th>\n",
       "      <th>dropoff_longitude</th>\n",
       "      <th>dropoff_latitude</th>\n",
       "      <th>Displacement</th>\n",
       "      <th>passenger_count</th>\n",
       "      <th>hour</th>\n",
       "      <th>dayofweek</th>\n",
       "    </tr>\n",
       "  </thead>\n",
       "  <tbody>\n",
       "    <tr>\n",
       "      <th>0</th>\n",
       "      <td>0.317308</td>\n",
       "      <td>1.000000</td>\n",
       "      <td>0.269265</td>\n",
       "      <td>1.000000</td>\n",
       "      <td>0.211533</td>\n",
       "      <td>0.121267</td>\n",
       "      <td>0.285714</td>\n",
       "      <td>0.739130</td>\n",
       "      <td>0.000000</td>\n",
       "    </tr>\n",
       "    <tr>\n",
       "      <th>1</th>\n",
       "      <td>0.794231</td>\n",
       "      <td>0.133324</td>\n",
       "      <td>0.191771</td>\n",
       "      <td>0.482961</td>\n",
       "      <td>0.727182</td>\n",
       "      <td>1.000000</td>\n",
       "      <td>0.285714</td>\n",
       "      <td>0.695652</td>\n",
       "      <td>0.166667</td>\n",
       "    </tr>\n",
       "    <tr>\n",
       "      <th>2</th>\n",
       "      <td>0.363462</td>\n",
       "      <td>0.469002</td>\n",
       "      <td>0.578369</td>\n",
       "      <td>0.374665</td>\n",
       "      <td>0.494657</td>\n",
       "      <td>0.175735</td>\n",
       "      <td>0.571429</td>\n",
       "      <td>0.000000</td>\n",
       "      <td>0.500000</td>\n",
       "    </tr>\n",
       "    <tr>\n",
       "      <th>3</th>\n",
       "      <td>0.440385</td>\n",
       "      <td>0.424742</td>\n",
       "      <td>0.360748</td>\n",
       "      <td>0.371726</td>\n",
       "      <td>0.550344</td>\n",
       "      <td>0.325669</td>\n",
       "      <td>0.285714</td>\n",
       "      <td>0.173913</td>\n",
       "      <td>0.833333</td>\n",
       "    </tr>\n",
       "    <tr>\n",
       "      <th>4</th>\n",
       "      <td>0.348077</td>\n",
       "      <td>0.616565</td>\n",
       "      <td>0.630501</td>\n",
       "      <td>0.687477</td>\n",
       "      <td>0.740183</td>\n",
       "      <td>0.250217</td>\n",
       "      <td>0.285714</td>\n",
       "      <td>0.304348</td>\n",
       "      <td>0.166667</td>\n",
       "    </tr>\n",
       "    <tr>\n",
       "      <th>5</th>\n",
       "      <td>0.609615</td>\n",
       "      <td>0.285331</td>\n",
       "      <td>0.349042</td>\n",
       "      <td>0.540627</td>\n",
       "      <td>0.551387</td>\n",
       "      <td>0.497040</td>\n",
       "      <td>0.285714</td>\n",
       "      <td>0.391304</td>\n",
       "      <td>0.500000</td>\n",
       "    </tr>\n",
       "    <tr>\n",
       "      <th>6</th>\n",
       "      <td>0.432692</td>\n",
       "      <td>0.496574</td>\n",
       "      <td>0.504031</td>\n",
       "      <td>0.532396</td>\n",
       "      <td>0.600263</td>\n",
       "      <td>0.187191</td>\n",
       "      <td>0.285714</td>\n",
       "      <td>0.869565</td>\n",
       "      <td>0.166667</td>\n",
       "    </tr>\n",
       "    <tr>\n",
       "      <th>7</th>\n",
       "      <td>0.778846</td>\n",
       "      <td>0.785815</td>\n",
       "      <td>0.677929</td>\n",
       "      <td>0.385039</td>\n",
       "      <td>0.498251</td>\n",
       "      <td>0.580209</td>\n",
       "      <td>0.285714</td>\n",
       "      <td>0.739130</td>\n",
       "      <td>0.333333</td>\n",
       "    </tr>\n",
       "    <tr>\n",
       "      <th>8</th>\n",
       "      <td>0.490385</td>\n",
       "      <td>0.229926</td>\n",
       "      <td>0.310999</td>\n",
       "      <td>0.358060</td>\n",
       "      <td>0.354633</td>\n",
       "      <td>0.183239</td>\n",
       "      <td>0.285714</td>\n",
       "      <td>0.565217</td>\n",
       "      <td>0.000000</td>\n",
       "    </tr>\n",
       "    <tr>\n",
       "      <th>9</th>\n",
       "      <td>0.486538</td>\n",
       "      <td>0.489963</td>\n",
       "      <td>0.366396</td>\n",
       "      <td>0.371970</td>\n",
       "      <td>0.550684</td>\n",
       "      <td>0.341771</td>\n",
       "      <td>0.571429</td>\n",
       "      <td>0.043478</td>\n",
       "      <td>0.333333</td>\n",
       "    </tr>\n",
       "  </tbody>\n",
       "</table>\n",
       "</div>"
      ],
      "text/plain": [
       "   fare_amount  pickup_longitude  pickup_latitude  dropoff_longitude  \\\n",
       "0     0.317308          1.000000         0.269265           1.000000   \n",
       "1     0.794231          0.133324         0.191771           0.482961   \n",
       "2     0.363462          0.469002         0.578369           0.374665   \n",
       "3     0.440385          0.424742         0.360748           0.371726   \n",
       "4     0.348077          0.616565         0.630501           0.687477   \n",
       "5     0.609615          0.285331         0.349042           0.540627   \n",
       "6     0.432692          0.496574         0.504031           0.532396   \n",
       "7     0.778846          0.785815         0.677929           0.385039   \n",
       "8     0.490385          0.229926         0.310999           0.358060   \n",
       "9     0.486538          0.489963         0.366396           0.371970   \n",
       "\n",
       "   dropoff_latitude  Displacement  passenger_count      hour  dayofweek  \n",
       "0          0.211533      0.121267         0.285714  0.739130   0.000000  \n",
       "1          0.727182      1.000000         0.285714  0.695652   0.166667  \n",
       "2          0.494657      0.175735         0.571429  0.000000   0.500000  \n",
       "3          0.550344      0.325669         0.285714  0.173913   0.833333  \n",
       "4          0.740183      0.250217         0.285714  0.304348   0.166667  \n",
       "5          0.551387      0.497040         0.285714  0.391304   0.500000  \n",
       "6          0.600263      0.187191         0.285714  0.869565   0.166667  \n",
       "7          0.498251      0.580209         0.285714  0.739130   0.333333  \n",
       "8          0.354633      0.183239         0.285714  0.565217   0.000000  \n",
       "9          0.550684      0.341771         0.571429  0.043478   0.333333  "
      ]
     },
     "execution_count": 22,
     "metadata": {},
     "output_type": "execute_result"
    }
   ],
   "source": [
    "from sklearn.preprocessing import MinMaxScaler\n",
    "numCol = df.select_dtypes('number').columns\n",
    "scaler = MinMaxScaler()\n",
    "scaler.fit(df[numCol])\n",
    "df[numCol] = scaler.transform(df[numCol])\n",
    "df.head(10)"
   ]
  },
  {
   "cell_type": "markdown",
   "id": "18c5b33f",
   "metadata": {
    "papermill": {
     "duration": 0.017179,
     "end_time": "2024-09-18T15:45:52.328497",
     "exception": false,
     "start_time": "2024-09-18T15:45:52.311318",
     "status": "completed"
    },
    "tags": []
   },
   "source": [
    "# Implmentation Using SVR"
   ]
  },
  {
   "cell_type": "code",
   "execution_count": 23,
   "id": "240249b9",
   "metadata": {
    "execution": {
     "iopub.execute_input": "2024-09-18T15:45:52.365313Z",
     "iopub.status.busy": "2024-09-18T15:45:52.364882Z",
     "iopub.status.idle": "2024-09-18T15:46:21.771505Z",
     "shell.execute_reply": "2024-09-18T15:46:21.770216Z"
    },
    "papermill": {
     "duration": 29.428016,
     "end_time": "2024-09-18T15:46:21.773890",
     "exception": false,
     "start_time": "2024-09-18T15:45:52.345874",
     "status": "completed"
    },
    "tags": []
   },
   "outputs": [
    {
     "name": "stdout",
     "output_type": "stream",
     "text": [
      "Mean Squared Error: 0.011615569774183232\n",
      "Root Mean Squared Error: 0.10777555276677189\n",
      "Mean Absolute Error: 0.07559030040617747\n",
      "R² Score: 0.751663876306117\n"
     ]
    },
    {
     "data": {
      "text/html": [
       "<div>\n",
       "<style scoped>\n",
       "    .dataframe tbody tr th:only-of-type {\n",
       "        vertical-align: middle;\n",
       "    }\n",
       "\n",
       "    .dataframe tbody tr th {\n",
       "        vertical-align: top;\n",
       "    }\n",
       "\n",
       "    .dataframe thead th {\n",
       "        text-align: right;\n",
       "    }\n",
       "</style>\n",
       "<table border=\"1\" class=\"dataframe\">\n",
       "  <thead>\n",
       "    <tr style=\"text-align: right;\">\n",
       "      <th></th>\n",
       "      <th>Real</th>\n",
       "      <th>predicted</th>\n",
       "    </tr>\n",
       "  </thead>\n",
       "  <tbody>\n",
       "    <tr>\n",
       "      <th>Real</th>\n",
       "      <td>1.000000</td>\n",
       "      <td>0.691777</td>\n",
       "    </tr>\n",
       "    <tr>\n",
       "      <th>predicted</th>\n",
       "      <td>0.691777</td>\n",
       "      <td>1.000000</td>\n",
       "    </tr>\n",
       "  </tbody>\n",
       "</table>\n",
       "</div>"
      ],
      "text/plain": [
       "               Real  predicted\n",
       "Real       1.000000   0.691777\n",
       "predicted  0.691777   1.000000"
      ]
     },
     "execution_count": 23,
     "metadata": {},
     "output_type": "execute_result"
    }
   ],
   "source": [
    "from sklearn.model_selection import train_test_split\n",
    "from sklearn.svm import SVR\n",
    "from sklearn.metrics import mean_squared_error , mean_absolute_error ,r2_score\n",
    "\n",
    "x=df.drop(['fare_amount'] , axis=1)\n",
    "y=df['fare_amount']\n",
    "\n",
    "# Data splitting into train and test\n",
    "x_train , x_test , y_train , y_test = train_test_split(x[:10000],y[:10000],test_size=0.2,random_state=42)\n",
    "\n",
    "# Create the svr model\n",
    "svr = SVR(kernel='rbf', C=1000, gamma=0.1)\n",
    "\n",
    "# Model fit and predict\n",
    "svr.fit(x_train, y_train)\n",
    "SVR_Predict = svr.predict(x_test)\n",
    "Real_Vs_Predict = pd.DataFrame({'Real': y_test, 'predicted': np.round(SVR_Predict)})\n",
    "\n",
    "# Evaluation metrics\n",
    "mse = mean_squared_error( y_test, SVR_Predict)\n",
    "mae = mean_absolute_error( y_test, SVR_Predict)\n",
    "RMSE = np.sqrt(mse)\n",
    "r2 = r2_score( y_test, SVR_Predict)\n",
    "\n",
    "# Results\n",
    "print(\"Mean Squared Error:\", mse)\n",
    "print(\"Root Mean Squared Error:\", RMSE)\n",
    "print(\"Mean Absolute Error:\", mae)\n",
    "print(\"R² Score:\", r2)\n",
    "Real_Vs_Predict.corr()\n"
   ]
  },
  {
   "cell_type": "markdown",
   "id": "00b1d3f8",
   "metadata": {
    "papermill": {
     "duration": 0.017502,
     "end_time": "2024-09-18T15:46:21.809228",
     "exception": false,
     "start_time": "2024-09-18T15:46:21.791726",
     "status": "completed"
    },
    "tags": []
   },
   "source": [
    "# Decision Tree Regressor"
   ]
  },
  {
   "cell_type": "code",
   "execution_count": 24,
   "id": "6f57d83d",
   "metadata": {
    "execution": {
     "iopub.execute_input": "2024-09-18T15:46:21.846900Z",
     "iopub.status.busy": "2024-09-18T15:46:21.846397Z",
     "iopub.status.idle": "2024-09-18T15:46:22.046096Z",
     "shell.execute_reply": "2024-09-18T15:46:22.044929Z"
    },
    "papermill": {
     "duration": 0.221674,
     "end_time": "2024-09-18T15:46:22.048699",
     "exception": false,
     "start_time": "2024-09-18T15:46:21.827025",
     "status": "completed"
    },
    "tags": []
   },
   "outputs": [
    {
     "name": "stdout",
     "output_type": "stream",
     "text": [
      "Mean Squared Error: 0.019743493893819856\n",
      "Root Mean Squared Error: 0.14051154363190185\n",
      "Mean Absolute Error: 0.09042185897435898\n",
      "R² Score: 0.5558235196150622\n"
     ]
    },
    {
     "data": {
      "text/html": [
       "<div>\n",
       "<style scoped>\n",
       "    .dataframe tbody tr th:only-of-type {\n",
       "        vertical-align: middle;\n",
       "    }\n",
       "\n",
       "    .dataframe tbody tr th {\n",
       "        vertical-align: top;\n",
       "    }\n",
       "\n",
       "    .dataframe thead th {\n",
       "        text-align: right;\n",
       "    }\n",
       "</style>\n",
       "<table border=\"1\" class=\"dataframe\">\n",
       "  <thead>\n",
       "    <tr style=\"text-align: right;\">\n",
       "      <th></th>\n",
       "      <th>Real</th>\n",
       "      <th>predicted</th>\n",
       "    </tr>\n",
       "  </thead>\n",
       "  <tbody>\n",
       "    <tr>\n",
       "      <th>Real</th>\n",
       "      <td>1.000000</td>\n",
       "      <td>0.622584</td>\n",
       "    </tr>\n",
       "    <tr>\n",
       "      <th>predicted</th>\n",
       "      <td>0.622584</td>\n",
       "      <td>1.000000</td>\n",
       "    </tr>\n",
       "  </tbody>\n",
       "</table>\n",
       "</div>"
      ],
      "text/plain": [
       "               Real  predicted\n",
       "Real       1.000000   0.622584\n",
       "predicted  0.622584   1.000000"
      ]
     },
     "execution_count": 24,
     "metadata": {},
     "output_type": "execute_result"
    }
   ],
   "source": [
    "from sklearn.tree import DecisionTreeRegressor\n",
    "from sklearn.metrics import mean_squared_error , mean_absolute_error ,r2_score\n",
    "\n",
    "\n",
    "X = df.drop(['fare_amount'] , axis=1)\n",
    "y = df['fare_amount']\n",
    "\n",
    "# Split the data into training and testing sets\n",
    "X_train, X_test, y_train, y_test = train_test_split(X[:10000], y[:10000], test_size=0.20, random_state=25)\n",
    "\n",
    "# Create a Decision Tree Regressor\n",
    "model = DecisionTreeRegressor() \n",
    "\n",
    "# Train the model\n",
    "model.fit(X_train, y_train)\n",
    "\n",
    "# Make predictions on the test set\n",
    "DT_pred = model.predict(X_test)\n",
    "Real_Vs_Predict = pd.DataFrame({'Real': y_test, 'predicted': np.round(DT_pred)})\n",
    "\n",
    "\n",
    "# Evaluate the model\n",
    "mse = mean_squared_error(y_test, DT_pred)\n",
    "RMSE = np.sqrt(mse)\n",
    "mae = mean_absolute_error(y_test, DT_pred)\n",
    "r2 = r2_score(y_test, DT_pred)\n",
    "\n",
    "\n",
    "# Results\n",
    "print(\"Mean Squared Error:\", mse)\n",
    "print(\"Root Mean Squared Error:\", RMSE)\n",
    "print(\"Mean Absolute Error:\", mae)\n",
    "print(\"R² Score:\", r2)\n",
    "Real_Vs_Predict.corr()\n",
    "\n",
    "\n"
   ]
  },
  {
   "cell_type": "markdown",
   "id": "c7950192",
   "metadata": {
    "papermill": {
     "duration": 0.017967,
     "end_time": "2024-09-18T15:46:22.084966",
     "exception": false,
     "start_time": "2024-09-18T15:46:22.066999",
     "status": "completed"
    },
    "tags": []
   },
   "source": [
    "# Bagging Regressor"
   ]
  },
  {
   "cell_type": "code",
   "execution_count": 25,
   "id": "87f7e7cf",
   "metadata": {
    "execution": {
     "iopub.execute_input": "2024-09-18T15:46:22.123621Z",
     "iopub.status.busy": "2024-09-18T15:46:22.123128Z",
     "iopub.status.idle": "2024-09-18T15:46:27.392299Z",
     "shell.execute_reply": "2024-09-18T15:46:27.390948Z"
    },
    "papermill": {
     "duration": 5.291414,
     "end_time": "2024-09-18T15:46:27.394857",
     "exception": false,
     "start_time": "2024-09-18T15:46:22.103443",
     "status": "completed"
    },
    "tags": []
   },
   "outputs": [
    {
     "name": "stdout",
     "output_type": "stream",
     "text": [
      "Mean Squared Error: 0.009825800145744195\n",
      "Root Mean Squared Error: 0.09912517412718222\n",
      "Mean Absolute Error: 0.06615145274725276\n",
      "R² Score: 0.7789454415123245\n"
     ]
    },
    {
     "data": {
      "text/html": [
       "<div>\n",
       "<style scoped>\n",
       "    .dataframe tbody tr th:only-of-type {\n",
       "        vertical-align: middle;\n",
       "    }\n",
       "\n",
       "    .dataframe tbody tr th {\n",
       "        vertical-align: top;\n",
       "    }\n",
       "\n",
       "    .dataframe thead th {\n",
       "        text-align: right;\n",
       "    }\n",
       "</style>\n",
       "<table border=\"1\" class=\"dataframe\">\n",
       "  <thead>\n",
       "    <tr style=\"text-align: right;\">\n",
       "      <th></th>\n",
       "      <th>Real</th>\n",
       "      <th>predicted</th>\n",
       "    </tr>\n",
       "  </thead>\n",
       "  <tbody>\n",
       "    <tr>\n",
       "      <th>Real</th>\n",
       "      <td>1.000000</td>\n",
       "      <td>0.695298</td>\n",
       "    </tr>\n",
       "    <tr>\n",
       "      <th>predicted</th>\n",
       "      <td>0.695298</td>\n",
       "      <td>1.000000</td>\n",
       "    </tr>\n",
       "  </tbody>\n",
       "</table>\n",
       "</div>"
      ],
      "text/plain": [
       "               Real  predicted\n",
       "Real       1.000000   0.695298\n",
       "predicted  0.695298   1.000000"
      ]
     },
     "execution_count": 25,
     "metadata": {},
     "output_type": "execute_result"
    }
   ],
   "source": [
    "from sklearn.ensemble import BaggingRegressor\n",
    "from sklearn.tree import DecisionTreeRegressor\n",
    "from sklearn.model_selection import train_test_split\n",
    "from sklearn.metrics import mean_squared_error , mean_absolute_error ,r2_score\n",
    "\n",
    "\n",
    "X = df.drop(['fare_amount'] , axis=1)\n",
    "y = df['fare_amount']\n",
    "\n",
    "# Split the data into training and testing sets\n",
    "X_train, X_test, y_train, y_test = train_test_split(X[:10000], y[:10000], test_size=0.20 , random_state=25 ) \n",
    "\n",
    "\n",
    "baggingModel = BaggingRegressor(base_estimator=DecisionTreeRegressor() , n_estimators=100 , random_state=25)\n",
    "baggingModel.fit(X_train , y_train)\n",
    "bagging_predict = baggingModel.predict(X_test)\n",
    "Real_Vs_Predict = pd.DataFrame({'Real': y_test, 'predicted': np.round(bagging_predict)})\n",
    "\n",
    "\n",
    "# Evaluate the model\n",
    "mse = mean_squared_error(y_test, bagging_predict)\n",
    "RMSE = np.sqrt(mse)\n",
    "mae = mean_absolute_error(y_test, bagging_predict)\n",
    "r2 = r2_score(y_test, bagging_predict)\n",
    "\n",
    "\n",
    "# Results\n",
    "print(\"Mean Squared Error:\", mse)\n",
    "print(\"Root Mean Squared Error:\", RMSE)\n",
    "print(\"Mean Absolute Error:\", mae)\n",
    "print(\"R² Score:\", r2)\n",
    "Real_Vs_Predict.corr()\n",
    "\n",
    "\n"
   ]
  },
  {
   "cell_type": "markdown",
   "id": "390e3662",
   "metadata": {
    "papermill": {
     "duration": 0.018668,
     "end_time": "2024-09-18T15:46:27.432364",
     "exception": false,
     "start_time": "2024-09-18T15:46:27.413696",
     "status": "completed"
    },
    "tags": []
   },
   "source": [
    "# Boosting Regressor"
   ]
  },
  {
   "cell_type": "code",
   "execution_count": 26,
   "id": "9dd0d7f9",
   "metadata": {
    "execution": {
     "iopub.execute_input": "2024-09-18T15:46:27.472172Z",
     "iopub.status.busy": "2024-09-18T15:46:27.471665Z",
     "iopub.status.idle": "2024-09-18T15:46:28.882157Z",
     "shell.execute_reply": "2024-09-18T15:46:28.881013Z"
    },
    "papermill": {
     "duration": 1.433132,
     "end_time": "2024-09-18T15:46:28.884681",
     "exception": false,
     "start_time": "2024-09-18T15:46:27.451549",
     "status": "completed"
    },
    "tags": []
   },
   "outputs": [
    {
     "name": "stdout",
     "output_type": "stream",
     "text": [
      "Mean Squared Error: 0.010611396167168262\n",
      "Root Mean Squared Error: 0.10301163122273262\n",
      "Mean Absolute Error: 0.06840619388098713\n",
      "R² Score: 0.7612716053778914\n"
     ]
    },
    {
     "data": {
      "text/html": [
       "<div>\n",
       "<style scoped>\n",
       "    .dataframe tbody tr th:only-of-type {\n",
       "        vertical-align: middle;\n",
       "    }\n",
       "\n",
       "    .dataframe tbody tr th {\n",
       "        vertical-align: top;\n",
       "    }\n",
       "\n",
       "    .dataframe thead th {\n",
       "        text-align: right;\n",
       "    }\n",
       "</style>\n",
       "<table border=\"1\" class=\"dataframe\">\n",
       "  <thead>\n",
       "    <tr style=\"text-align: right;\">\n",
       "      <th></th>\n",
       "      <th>Real</th>\n",
       "      <th>predicted</th>\n",
       "    </tr>\n",
       "  </thead>\n",
       "  <tbody>\n",
       "    <tr>\n",
       "      <th>Real</th>\n",
       "      <td>1.000000</td>\n",
       "      <td>0.687404</td>\n",
       "    </tr>\n",
       "    <tr>\n",
       "      <th>predicted</th>\n",
       "      <td>0.687404</td>\n",
       "      <td>1.000000</td>\n",
       "    </tr>\n",
       "  </tbody>\n",
       "</table>\n",
       "</div>"
      ],
      "text/plain": [
       "               Real  predicted\n",
       "Real       1.000000   0.687404\n",
       "predicted  0.687404   1.000000"
      ]
     },
     "execution_count": 26,
     "metadata": {},
     "output_type": "execute_result"
    }
   ],
   "source": [
    "from sklearn.ensemble import AdaBoostRegressor\n",
    "from sklearn.metrics import mean_squared_error , mean_absolute_error ,r2_score\n",
    "from sklearn.tree import DecisionTreeRegressor\n",
    "from sklearn.model_selection import train_test_split\n",
    "\n",
    "\n",
    "X = df.drop(['fare_amount'] , axis=1)\n",
    "y = df['fare_amount']\n",
    "\n",
    "# Split the data into training and testing sets\n",
    "X_train, X_test, y_train, y_test = train_test_split(X[:10000], y[:10000], test_size=0.20 , random_state=25)\n",
    "\n",
    "\n",
    "boostingModel = AdaBoostRegressor(base_estimator=DecisionTreeRegressor() , n_estimators=100 , random_state=25)\n",
    "boostingModel.fit(X_train , y_train)\n",
    "boosting_predict = boostingModel.predict(X_test)\n",
    "Real_Vs_Predict = pd.DataFrame({'Real': y_test, 'predicted': np.round(boosting_predict)})\n",
    "\n",
    "\n",
    "\n",
    "# Evaluate the model\n",
    "mse = mean_squared_error(y_test, boosting_predict)\n",
    "RMSE = np.sqrt(mse)\n",
    "mae = mean_absolute_error(y_test,boosting_predict)\n",
    "r2 = r2_score(y_test, boosting_predict)\n",
    "\n",
    "\n",
    "# Results\n",
    "print(\"Mean Squared Error:\", mse)\n",
    "print(\"Root Mean Squared Error:\", RMSE)\n",
    "print(\"Mean Absolute Error:\", mae)\n",
    "print(\"R² Score:\", r2)\n",
    "Real_Vs_Predict.corr()\n"
   ]
  },
  {
   "cell_type": "markdown",
   "id": "6a7fecb5",
   "metadata": {
    "papermill": {
     "duration": 0.018582,
     "end_time": "2024-09-18T15:46:28.921736",
     "exception": false,
     "start_time": "2024-09-18T15:46:28.903154",
     "status": "completed"
    },
    "tags": []
   },
   "source": [
    "# Random Forest Regressor"
   ]
  },
  {
   "cell_type": "code",
   "execution_count": 27,
   "id": "66f52ba1",
   "metadata": {
    "execution": {
     "iopub.execute_input": "2024-09-18T15:46:28.961029Z",
     "iopub.status.busy": "2024-09-18T15:46:28.960596Z",
     "iopub.status.idle": "2024-09-18T15:46:34.753926Z",
     "shell.execute_reply": "2024-09-18T15:46:34.752435Z"
    },
    "papermill": {
     "duration": 5.81624,
     "end_time": "2024-09-18T15:46:34.756553",
     "exception": false,
     "start_time": "2024-09-18T15:46:28.940313",
     "status": "completed"
    },
    "tags": []
   },
   "outputs": [
    {
     "name": "stdout",
     "output_type": "stream",
     "text": [
      "Mean Squared Error: 0.009948303862169624\n",
      "Root Mean Squared Error: 0.09974118438323071\n",
      "Mean Absolute Error: 0.06833329766483519\n",
      "R² Score: 0.7699625360926017\n"
     ]
    },
    {
     "data": {
      "text/html": [
       "<div>\n",
       "<style scoped>\n",
       "    .dataframe tbody tr th:only-of-type {\n",
       "        vertical-align: middle;\n",
       "    }\n",
       "\n",
       "    .dataframe tbody tr th {\n",
       "        vertical-align: top;\n",
       "    }\n",
       "\n",
       "    .dataframe thead th {\n",
       "        text-align: right;\n",
       "    }\n",
       "</style>\n",
       "<table border=\"1\" class=\"dataframe\">\n",
       "  <thead>\n",
       "    <tr style=\"text-align: right;\">\n",
       "      <th></th>\n",
       "      <th>Real</th>\n",
       "      <th>predicted</th>\n",
       "    </tr>\n",
       "  </thead>\n",
       "  <tbody>\n",
       "    <tr>\n",
       "      <th>Real</th>\n",
       "      <td>1.000000</td>\n",
       "      <td>0.706677</td>\n",
       "    </tr>\n",
       "    <tr>\n",
       "      <th>predicted</th>\n",
       "      <td>0.706677</td>\n",
       "      <td>1.000000</td>\n",
       "    </tr>\n",
       "  </tbody>\n",
       "</table>\n",
       "</div>"
      ],
      "text/plain": [
       "               Real  predicted\n",
       "Real       1.000000   0.706677\n",
       "predicted  0.706677   1.000000"
      ]
     },
     "execution_count": 27,
     "metadata": {},
     "output_type": "execute_result"
    }
   ],
   "source": [
    "from sklearn.model_selection import train_test_split\n",
    "from sklearn.metrics import mean_squared_error , mean_absolute_error ,r2_score\n",
    "from sklearn.ensemble import RandomForestRegressor\n",
    "\n",
    "# Splitting data\n",
    "X = df.drop(['fare_amount'] , axis=1)\n",
    "y = df['fare_amount']\n",
    "\n",
    "# Split the data into training and testing sets\n",
    "X_train, X_test, y_train, y_test = train_test_split(X[:10000], y[:10000], test_size=0.1 , random_state=42)\n",
    "\n",
    "\n",
    "R_model = RandomForestRegressor(n_estimators=100 , random_state=25)\n",
    "R_model.fit(X_train , y_train )\n",
    "\n",
    "R_predict = R_model.predict(X_test)\n",
    "Real_Vs_Predict = pd.DataFrame({'Real': y_test, 'predicted': np.round(R_predict)})\n",
    "\n",
    "\n",
    "# Evaluate the model\n",
    "mse = mean_squared_error(y_test,R_predict)\n",
    "RMSE = np.sqrt(mse)\n",
    "mae = mean_absolute_error(y_test, R_predict)\n",
    "r2 = r2_score(y_test, R_predict)\n",
    "\n",
    "\n",
    "# Results\n",
    "print(\"Mean Squared Error:\", mse)\n",
    "print(\"Root Mean Squared Error:\", RMSE)\n",
    "print(\"Mean Absolute Error:\", mae)\n",
    "print(\"R² Score:\", r2)\n",
    "Real_Vs_Predict.corr()\n"
   ]
  }
 ],
 "metadata": {
  "kaggle": {
   "accelerator": "none",
   "dataSources": [
    {
     "datasetId": 5718233,
     "sourceId": 9415643,
     "sourceType": "datasetVersion"
    }
   ],
   "dockerImageVersionId": 30761,
   "isGpuEnabled": false,
   "isInternetEnabled": true,
   "language": "python",
   "sourceType": "notebook"
  },
  "kernelspec": {
   "display_name": "Python 3",
   "language": "python",
   "name": "python3"
  },
  "language_info": {
   "codemirror_mode": {
    "name": "ipython",
    "version": 3
   },
   "file_extension": ".py",
   "mimetype": "text/x-python",
   "name": "python",
   "nbconvert_exporter": "python",
   "pygments_lexer": "ipython3",
   "version": "3.10.14"
  },
  "papermill": {
   "default_parameters": {},
   "duration": 60.797869,
   "end_time": "2024-09-18T15:46:35.498272",
   "environment_variables": {},
   "exception": null,
   "input_path": "__notebook__.ipynb",
   "output_path": "__notebook__.ipynb",
   "parameters": {},
   "start_time": "2024-09-18T15:45:34.700403",
   "version": "2.6.0"
  }
 },
 "nbformat": 4,
 "nbformat_minor": 5
}
